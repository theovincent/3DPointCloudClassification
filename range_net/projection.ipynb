{
 "cells": [
  {
   "cell_type": "code",
   "execution_count": 1,
   "metadata": {},
   "outputs": [],
   "source": [
    "import os\n",
    "os.chdir(\"..\")"
   ]
  },
  {
   "cell_type": "code",
   "execution_count": 54,
   "metadata": {},
   "outputs": [
    {
     "name": "stdout",
     "output_type": "stream",
     "text": [
      "[ 0.22020824 -1.04610658 -0.72931582]\n"
     ]
    }
   ],
   "source": [
    "import numpy as np\n",
    "\n",
    "from classifier_3D.utils.ply_file import read_ply\n",
    "from classifier_3D.utils.path import get_data_path\n",
    "\n",
    "file_path = get_data_path(\"MiniLille1.ply\", True)\n",
    "\n",
    "cloud, _ = read_ply(file_path)\n",
    "points = np.vstack((cloud[\"x\"], cloud[\"y\"], cloud[\"z\"])).T.astype(np.float32)"
   ]
  },
  {
   "cell_type": "code",
   "execution_count": 73,
   "metadata": {},
   "outputs": [
    {
     "data": {
      "image/png": "[encoded data removed]",
      "text/plain": [
       "<Figure size 432x288 with 1 Axes>"
      ]
     },
     "metadata": {
      "needs_background": "light"
     },
     "output_type": "display_data"
    },
    {
     "name": "stdout",
     "output_type": "stream",
     "text": [
      "0.27068418\n",
      "-0.732288384437561\n",
      "[ 0.22020824 -1.0461066  -0.73228836]\n"
     ]
    }
   ],
   "source": [
    "import matplotlib.pyplot as plt\n",
    "\n",
    "bin_count, bin_boxes, _ = plt.hist(points[:, -1], bins=50)\n",
    "plt.show()\n",
    "print(points[:, -1].mean())\n",
    "\n",
    "z_center = (bin_boxes[np.argmax(bin_count) + 1] + bin_boxes[np.argmax(bin_count) + 2]) / 2 + 1.1\n",
    "print(z_center)\n",
    "\n",
    "center_of_projection = points.mean(axis=0)\n",
    "center_of_projection[-1] = z_center\n",
    "print(center_of_projection)\n",
    "\n",
    "centered_points = points - center_of_projection"
   ]
  },
  {
   "cell_type": "code",
   "execution_count": 74,
   "metadata": {},
   "outputs": [],
   "source": [
    "proj_fov_up = 3.0\n",
    "proj_fov_down = -25.0\n",
    "\n",
    "proj_W = 1024\n",
    "proj_H = 64"
   ]
  },
  {
   "cell_type": "code",
   "execution_count": 75,
   "metadata": {},
   "outputs": [],
   "source": [
    "fov_up = proj_fov_up / 180.0 * np.pi      # field of view up in rad\n",
    "fov_down = proj_fov_down / 180.0 * np.pi  # field of view down in rad\n",
    "fov = abs(fov_down) + abs(fov_up)  # get field of view total in rad\n",
    "\n",
    "# get depth of all points\n",
    "depth = np.linalg.norm(centered_points, axis=1)\n",
    "\n",
    "# get scan components\n",
    "scan_x = centered_points[:, 0]\n",
    "scan_y = centered_points[:, 1]\n",
    "scan_z = centered_points[:, 2]\n",
    "\n",
    "# get angles of all points\n",
    "yaw = -np.arctan2(scan_y, scan_x)\n",
    "pitch = np.arcsin(scan_z / depth)\n",
    "\n",
    "# get projections in image coords\n",
    "proj_x = 0.5 * (yaw / np.pi + 1.0)          # in [0.0, 1.0]\n",
    "proj_y = 1.0 - (pitch + abs(fov_down)) / fov        # in [0.0, 1.0]\n",
    "\n",
    "# scale to image size using angular resolution\n",
    "proj_x *= proj_W                              # in [0.0, W]\n",
    "proj_y *= proj_H                              # in [0.0, H]\n",
    "\n",
    "# round and clamp for use as index\n",
    "proj_x = np.floor(proj_x)\n",
    "proj_x = np.minimum(proj_W - 1, proj_x)\n",
    "proj_x = np.maximum(0, proj_x).astype(np.int32)   # in [0,W-1]\n",
    "proj_x_copy = np.copy(proj_x)  # store a copy in orig order\n",
    "\n",
    "proj_y = np.floor(proj_y)\n",
    "proj_y = np.minimum(proj_H - 1, proj_y)\n",
    "proj_y = np.maximum(0, proj_y).astype(np.int32)   # in [0,H-1]\n",
    "proj_y_copy = np.copy(proj_y)  # stope a copy in original order\n",
    "\n",
    "# copy of depth in original order\n",
    "unproj_range = np.copy(depth)\n",
    "\n",
    "# order in decreasing depth\n",
    "indices = np.arange(depth.shape[0])\n",
    "order = np.argsort(depth)[::-1]\n",
    "depth = depth[order]\n",
    "indices = indices[order]\n",
    "points_ = centered_points[order]\n",
    "proj_y = proj_y[order]\n",
    "proj_x = proj_x[order]\n",
    "\n",
    "# assing to images\n",
    "proj_range = np.full((proj_H, proj_W), -1, dtype=np.float32)\n",
    "proj_range[proj_y, proj_x] = depth\n",
    "proj_xyz = np.full((proj_H, proj_W, 3), -1, dtype=np.float32)\n",
    "proj_xyz[proj_y, proj_x] = points  \n",
    "proj_idx = np.full((proj_H, proj_W), -1, dtype=np.int32)\n",
    "proj_idx[proj_y, proj_x] = indices\n",
    "proj_mask = (proj_idx > 0).astype(np.int32)"
   ]
  },
  {
   "cell_type": "code",
   "execution_count": 76,
   "metadata": {},
   "outputs": [
    {
     "data": {
      "text/plain": [
       "<matplotlib.image.AxesImage at 0x7f4acdea6ee0>"
      ]
     },
     "execution_count": 76,
     "metadata": {},
     "output_type": "execute_result"
    },
    {
     "data": {
      "image/png": "[encoded data removed]",
      "text/plain": [
       "<Figure size 432x288 with 1 Axes>"
      ]
     },
     "metadata": {
      "needs_background": "light"
     },
     "output_type": "display_data"
    }
   ],
   "source": [
    "plt.imshow(proj_range)"
   ]
  },
  {
   "cell_type": "code",
   "execution_count": null,
   "metadata": {},
   "outputs": [],
   "source": [
    "### Put the projection in the direction of the road :)"
   ]
  }
 ],
 "metadata": {
  "interpreter": {
   "hash": "ad2b1301c533521fcb96eb70532f3e190721e7fbc7ce5a284c4cf04ae8011a15"
  },
  "kernelspec": {
   "display_name": "Python 3.8.10 ('env_computer': venv)",
   "language": "python",
   "name": "python3"
  },
  "language_info": {
   "codemirror_mode": {
    "name": "ipython",
    "version": 3
   },
   "file_extension": ".py",
   "mimetype": "text/x-python",
   "name": "python",
   "nbconvert_exporter": "python",
   "pygments_lexer": "ipython3",
   "version": "3.8.10"
  },
  "orig_nbformat": 4
 },
 "nbformat": 4,
 "nbformat_minor": 2
}
