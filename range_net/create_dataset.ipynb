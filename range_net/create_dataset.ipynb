{
 "cells": [
  {
   "cell_type": "code",
   "execution_count": 1,
   "metadata": {},
   "outputs": [],
   "source": [
    "import os \n",
    "\n",
    "os.chdir(\"/home/theovincent/MVA/3DPointCloud/3DPointCloudClassification\")"
   ]
  },
  {
   "cell_type": "markdown",
   "metadata": {},
   "source": [
    "# Pipeline to create the dataset"
   ]
  },
  {
   "cell_type": "code",
   "execution_count": 2,
   "metadata": {},
   "outputs": [],
   "source": [
    "dataset_name = \"MiniLille1\"\n",
    "is_train_data = True\n",
    "seed = 1"
   ]
  },
  {
   "cell_type": "markdown",
   "metadata": {},
   "source": [
    "## Load the dataset"
   ]
  },
  {
   "cell_type": "code",
   "execution_count": 3,
   "metadata": {},
   "outputs": [],
   "source": [
    "import numpy as np \n",
    "\n",
    "from classifier_3D.utils.path import get_data_path\n",
    "from classifier_3D.utils.ply_file import read_ply\n",
    "\n",
    "dataset_path = get_data_path(dataset_name, is_train_data)\n",
    "dataset, _ = read_ply(dataset_path)\n",
    "points = np.vstack((dataset[\"x\"], dataset[\"y\"], dataset[\"z\"])).T.astype(np.float32)"
   ]
  },
  {
   "cell_type": "markdown",
   "metadata": {},
   "source": [
    "## Pick a center"
   ]
  },
  {
   "cell_type": "code",
   "execution_count": 4,
   "metadata": {},
   "outputs": [],
   "source": [
    "from range_net import CENTERS, Z_GROUNDS, Z_GROUND\n",
    "\n",
    "\n",
    "centers_bound = CENTERS[dataset_name]\n",
    "\n",
    "weights = np.random.randint(0, 10, size=4).astype(float)\n",
    "weights /= weights.sum()\n",
    "\n",
    "center = np.append(weights @ centers_bound, [Z_GROUNDS[dataset_name] - Z_GROUND])"
   ]
  },
  {
   "cell_type": "markdown",
   "metadata": {},
   "source": [
    "### Visualise the center"
   ]
  },
  {
   "cell_type": "code",
   "execution_count": 5,
   "metadata": {},
   "outputs": [
    {
     "data": {
      "image/png": "[encoded data removed]",
      "text/plain": [
       "<Figure size 432x288 with 1 Axes>"
      ]
     },
     "metadata": {
      "needs_background": "light"
     },
     "output_type": "display_data"
    }
   ],
   "source": [
    "import matplotlib.pyplot as plt\n",
    "\n",
    "\n",
    "plt.scatter(center[0], center[1])\n",
    "_ = plt.scatter(centers_bound[:, 0], centers_bound[:, 1])"
   ]
  },
  {
   "cell_type": "markdown",
   "metadata": {},
   "source": [
    "## Rotate the dataset"
   ]
  },
  {
   "cell_type": "code",
   "execution_count": 6,
   "metadata": {},
   "outputs": [],
   "source": [
    "from range_net import ROTATIONS\n",
    "center\n",
    "theta = -ROTATIONS[dataset_name]\n",
    "\n",
    "rotation = np.array([[np.cos(theta), - np.sin(theta), 0], [np.sin(theta), np.cos(theta), 0], [0, 0, 1]])"
   ]
  },
  {
   "cell_type": "markdown",
   "metadata": {},
   "source": [
    "### Visualise the rotation on the center points"
   ]
  },
  {
   "cell_type": "code",
   "execution_count": 7,
   "metadata": {},
   "outputs": [
    {
     "data": {
      "image/png": "[encoded data removed]",
      "text/plain": [
       "<Figure size 432x288 with 1 Axes>"
      ]
     },
     "metadata": {
      "needs_background": "light"
     },
     "output_type": "display_data"
    }
   ],
   "source": [
    "import matplotlib.pyplot as plt\n",
    "\n",
    "rotated_center = center @ rotation.T\n",
    "rotated_centers_bound = np.hstack((centers_bound, np.ones((centers_bound.shape[0], 1)))) @ rotation.T\n",
    "\n",
    "plt.scatter(rotated_center[0], rotated_center[1])\n",
    "_ = plt.scatter(rotated_centers_bound[:, 0], rotated_centers_bound[:, 1])"
   ]
  },
  {
   "cell_type": "markdown",
   "metadata": {},
   "source": [
    "## Translate the dataset"
   ]
  },
  {
   "cell_type": "code",
   "execution_count": 8,
   "metadata": {},
   "outputs": [],
   "source": [
    "centered_rotated_points = (points - np.expand_dims(center, axis=0)) @ rotation.T"
   ]
  },
  {
   "cell_type": "markdown",
   "metadata": {},
   "source": [
    "## Clip points that are too far, too high and too close "
   ]
  },
  {
   "cell_type": "code",
   "execution_count": 9,
   "metadata": {},
   "outputs": [],
   "source": [
    "from range_net import MAX_DISTANCE, MAX_HEIGHT\n",
    "\n",
    "to_keep = np.logical_and(np.linalg.norm(centered_rotated_points, axis=1) < MAX_DISTANCE, centered_rotated_points[:, 2] < MAX_HEIGHT)\n",
    "clipped_points = centered_rotated_points[to_keep]"
   ]
  },
  {
   "cell_type": "code",
   "execution_count": 10,
   "metadata": {},
   "outputs": [
    {
     "data": {
      "text/plain": [
       "True"
      ]
     },
     "execution_count": 10,
     "metadata": {},
     "output_type": "execute_result"
    }
   ],
   "source": [
    "from classifier_3D.utils.ply_file import write_ply\n",
    "\n",
    "write_ply(\"data/creation.ply\", clipped_points, [\"x\", \"y\", \"z\"])"
   ]
  }
 ],
 "metadata": {
  "interpreter": {
   "hash": "ad2b1301c533521fcb96eb70532f3e190721e7fbc7ce5a284c4cf04ae8011a15"
  },
  "kernelspec": {
   "display_name": "Python 3.8.10 ('env_computer': venv)",
   "language": "python",
   "name": "python3"
  },
  "language_info": {
   "codemirror_mode": {
    "name": "ipython",
    "version": 3
   },
   "file_extension": ".py",
   "mimetype": "text/x-python",
   "name": "python",
   "nbconvert_exporter": "python",
   "pygments_lexer": "ipython3",
   "version": "3.8.10"
  },
  "orig_nbformat": 4
 },
 "nbformat": 4,
 "nbformat_minor": 2
}
