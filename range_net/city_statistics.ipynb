{
 "cells": [
  {
   "cell_type": "code",
   "execution_count": 8,
   "metadata": {},
   "outputs": [],
   "source": [
    "import os \n",
    "\n",
    "os.chdir(\"/home/theovincent/MVA/3DPointCloud/3DPointCloudClassification\")\n",
    "\n",
    "point_cloud_name = \"MiniParis1_split1\""
   ]
  },
  {
   "cell_type": "markdown",
   "metadata": {},
   "source": [
    "## Admissible centers"
   ]
  },
  {
   "cell_type": "code",
   "execution_count": 9,
   "metadata": {},
   "outputs": [],
   "source": [
    "import numpy as np\n",
    "from classifier_3D.utils.ply_file import read_ply\n",
    "\n",
    "\n",
    "centers, _ = read_ply(f\"data/centers/{point_cloud_name}_centers.ply\")\n",
    "\n",
    "center_points = np.vstack((centers[\"x\"], centers[\"y\"])).T.astype(np.float32)\n",
    "\n",
    "center_min = center_points.min(axis=0)\n",
    "min_point_x = center_points[center_points[:, 0] == center_min[0]][0]\n",
    "min_point_y = center_points[center_points[:, 1] == center_min[1]][0]\n",
    "\n",
    "center_max = center_points.max(axis=0)\n",
    "max_point_x = center_points[center_points[:, 0] == center_max[0]][0]\n",
    "max_point_y = center_points[center_points[:, 1] == center_max[1]][0]"
   ]
  },
  {
   "cell_type": "code",
   "execution_count": 10,
   "metadata": {},
   "outputs": [
    {
     "data": {
      "text/plain": [
       "array([[-13.398174 ,  32.048706 ],\n",
       "       [  8.890404 ,  -3.3701782],\n",
       "       [ 11.532715 ,  -1.3626099],\n",
       "       [ -8.367008 ,  34.48767  ]], dtype=float32)"
      ]
     },
     "execution_count": 10,
     "metadata": {},
     "output_type": "execute_result"
    }
   ],
   "source": [
    "centers_bound = np.vstack((min_point_x, min_point_y, max_point_x, max_point_y))\n",
    "centers_bound"
   ]
  },
  {
   "cell_type": "markdown",
   "metadata": {},
   "source": [
    "### Visualise center"
   ]
  },
  {
   "cell_type": "code",
   "execution_count": 11,
   "metadata": {},
   "outputs": [
    {
     "data": {
      "image/png": "[encoded data removed]",
      "text/plain": [
       "<Figure size 432x288 with 1 Axes>"
      ]
     },
     "metadata": {
      "needs_background": "light"
     },
     "output_type": "display_data"
    }
   ],
   "source": [
    "import matplotlib.pyplot as plt\n",
    "\n",
    "weights = np.random.randint(0, 10, size=4).astype(float)\n",
    "weights /= weights.sum()\n",
    "\n",
    "center = np.append(weights @ centers_bound, [0])\n",
    "\n",
    "plt.scatter(center[0], center[1])\n",
    "_ = plt.scatter(centers_bound[:, 0], centers_bound[:, 1])"
   ]
  },
  {
   "cell_type": "markdown",
   "metadata": {},
   "source": [
    "## z ground"
   ]
  },
  {
   "cell_type": "code",
   "execution_count": 12,
   "metadata": {},
   "outputs": [
    {
     "name": "stdout",
     "output_type": "stream",
     "text": [
      "-5.165518283843994\n"
     ]
    },
    {
     "data": {
      "image/png": "[encoded data removed]",
      "text/plain": [
       "<Figure size 432x288 with 1 Axes>"
      ]
     },
     "metadata": {
      "needs_background": "light"
     },
     "output_type": "display_data"
    }
   ],
   "source": [
    "n, bins, _ = plt.hist(centers[\"z\"], bins=10)\n",
    "\n",
    "z_ground = (bins[np.argmax(n)] + bins[np.argmax(n) + 1]) / 2\n",
    "print(z_ground)"
   ]
  },
  {
   "cell_type": "markdown",
   "metadata": {},
   "source": [
    "## Rotations"
   ]
  },
  {
   "cell_type": "markdown",
   "metadata": {},
   "source": [
    "We need to adapt the code for every dataset"
   ]
  },
  {
   "cell_type": "code",
   "execution_count": 13,
   "metadata": {},
   "outputs": [
    {
     "data": {
      "text/plain": [
       "2.132471"
      ]
     },
     "execution_count": 13,
     "metadata": {},
     "output_type": "execute_result"
    }
   ],
   "source": [
    "# Take the longest edge that would produce theta in [0, pi]\n",
    "if np.linalg.norm(max_point_y - min_point_x) > np.linalg.norm(min_point_x - min_point_y):\n",
    "    angle_point = max_point_y - min_point_x\n",
    "else:\n",
    "    angle_point = min_point_x - min_point_y\n",
    "\n",
    "theta = np.arccos(angle_point[0] / np.linalg.norm(angle_point))\n",
    "theta"
   ]
  },
  {
   "cell_type": "markdown",
   "metadata": {},
   "source": [
    "### Visualise the rotation on the center points"
   ]
  },
  {
   "cell_type": "code",
   "execution_count": 14,
   "metadata": {},
   "outputs": [
    {
     "data": {
      "image/png": "[encoded data removed]",
      "text/plain": [
       "<Figure size 432x288 with 1 Axes>"
      ]
     },
     "metadata": {
      "needs_background": "light"
     },
     "output_type": "display_data"
    }
   ],
   "source": [
    "theta = - theta\n",
    "rotation = np.array([[np.cos(theta), - np.sin(theta), 0], [np.sin(theta), np.cos(theta), 0], [0, 0, 1]])\n",
    "\n",
    "rotated_center = center @ rotation.T\n",
    "rotated_centers_bound = np.hstack((centers_bound, np.ones((centers_bound.shape[0], 1)))) @ rotation.T\n",
    "\n",
    "plt.scatter(rotated_center[0], rotated_center[1])\n",
    "_ = plt.scatter(rotated_centers_bound[:, 0], rotated_centers_bound[:, 1])"
   ]
  }
 ],
 "metadata": {
  "interpreter": {
   "hash": "ad2b1301c533521fcb96eb70532f3e190721e7fbc7ce5a284c4cf04ae8011a15"
  },
  "kernelspec": {
   "display_name": "Python 3.8.10 ('env_computer': venv)",
   "language": "python",
   "name": "python3"
  },
  "language_info": {
   "codemirror_mode": {
    "name": "ipython",
    "version": 3
   },
   "file_extension": ".py",
   "mimetype": "text/x-python",
   "name": "python",
   "nbconvert_exporter": "python",
   "pygments_lexer": "ipython3",
   "version": "3.8.10"
  },
  "orig_nbformat": 4
 },
 "nbformat": 4,
 "nbformat_minor": 2
}
