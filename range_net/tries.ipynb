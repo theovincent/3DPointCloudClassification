{
 "cells": [
  {
   "cell_type": "code",
   "execution_count": 48,
   "metadata": {},
   "outputs": [
    {
     "data": {
      "text/plain": [
       "True"
      ]
     },
     "execution_count": 48,
     "metadata": {},
     "output_type": "execute_result"
    }
   ],
   "source": [
    "import numpy as np\n",
    "from classifier_3D.utils.ply_file import read_ply, write_ply\n",
    "\n",
    "cloud, headers = read_ply(\"../data/train/MiniParis1_split2_with_features.ply\")\n",
    "\n",
    "new_cloud = np.array([cloud[header] for header in headers]).T\n",
    "new_headers = [header.replace(\"scalar_\", \"\") for header in headers]\n",
    "# write_ply(\"../data/train/MiniParis1_split2_with_features.ply\", new_cloud, new_headers)"
   ]
  }
 ],
 "metadata": {
  "interpreter": {
   "hash": "ad2b1301c533521fcb96eb70532f3e190721e7fbc7ce5a284c4cf04ae8011a15"
  },
  "kernelspec": {
   "display_name": "Python 3.8.10 ('env_computer': venv)",
   "language": "python",
   "name": "python3"
  },
  "language_info": {
   "codemirror_mode": {
    "name": "ipython",
    "version": 3
   },
   "file_extension": ".py",
   "mimetype": "text/x-python",
   "name": "python",
   "nbconvert_exporter": "python",
   "pygments_lexer": "ipython3",
   "version": "3.8.10"
  },
  "orig_nbformat": 4
 },
 "nbformat": 4,
 "nbformat_minor": 2
}
