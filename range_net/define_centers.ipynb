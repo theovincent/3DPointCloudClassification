{
 "cells": [
  {
   "cell_type": "code",
   "execution_count": 2,
   "metadata": {},
   "outputs": [],
   "source": [
    "import os \n",
    "\n",
    "os.chdir(\"../\")"
   ]
  },
  {
   "cell_type": "markdown",
   "metadata": {},
   "source": [
    "## Define admissible centers"
   ]
  },
  {
   "cell_type": "code",
   "execution_count": 3,
   "metadata": {},
   "outputs": [],
   "source": [
    "import numpy as np\n",
    "from classifier_3D.utils.ply_file import read_ply\n",
    "\n",
    "\n",
    "centers, _ = read_ply(\"data/MiniLille1_centers.ply\")\n",
    "\n",
    "center_points = np.vstack((centers[\"x\"], centers[\"y\"])).T.astype(np.float32)\n",
    "\n",
    "center_min = center_points.min(axis=0)\n",
    "min_point_x = center_points[center_points[:, 0] == center_min[0]][0]\n",
    "min_point_y = center_points[center_points[:, 1] == center_min[1]][0]\n",
    "\n",
    "center_max = center_points.max(axis=0)\n",
    "max_point_x = center_points[center_points[:, 0] == center_max[0]][0]\n",
    "max_point_y = center_points[center_points[:, 1] == center_max[1]][0]"
   ]
  },
  {
   "cell_type": "code",
   "execution_count": 26,
   "metadata": {},
   "outputs": [
    {
     "data": {
      "text/plain": [
       "array([[-28.62239 , -23.31253 ],\n",
       "       [-26.703415, -25.464874],\n",
       "       [ 32.341904,  22.385834],\n",
       "       [ 30.010391,  24.857819]], dtype=float32)"
      ]
     },
     "execution_count": 26,
     "metadata": {},
     "output_type": "execute_result"
    }
   ],
   "source": [
    "np.vstack((min_point_x, min_point_y, max_point_x, max_point_y))"
   ]
  },
  {
   "cell_type": "markdown",
   "metadata": {},
   "source": [
    "## Visualise center"
   ]
  },
  {
   "cell_type": "code",
   "execution_count": 24,
   "metadata": {},
   "outputs": [
    {
     "data": {
      "image/png": "[encoded data removed]",
      "text/plain": [
       "<Figure size 432x288 with 1 Axes>"
      ]
     },
     "metadata": {
      "needs_background": "light"
     },
     "output_type": "display_data"
    }
   ],
   "source": [
    "import matplotlib.pyplot as plt\n",
    "\n",
    "weights = np.random.randint(0, 10, size=4).astype(float)\n",
    "weights /= weights.sum()\n",
    "\n",
    "middle_point = weights[0] * min_point_x + weights[1] * min_point_y + weights[2] * max_point_x + weights[3] * max_point_y\n",
    "plt.scatter(middle_point[0], middle_point[1])\n",
    "_ = plt.scatter([min_point_x[0], min_point_y[0], max_point_x[0], max_point_y[0]], [min_point_x[1], min_point_y[1], max_point_x[1], max_point_y[1]])"
   ]
  }
 ],
 "metadata": {
  "interpreter": {
   "hash": "ad2b1301c533521fcb96eb70532f3e190721e7fbc7ce5a284c4cf04ae8011a15"
  },
  "kernelspec": {
   "display_name": "Python 3.8.10 ('env_computer': venv)",
   "language": "python",
   "name": "python3"
  },
  "language_info": {
   "codemirror_mode": {
    "name": "ipython",
    "version": 3
   },
   "file_extension": ".py",
   "mimetype": "text/x-python",
   "name": "python",
   "nbconvert_exporter": "python",
   "pygments_lexer": "ipython3",
   "version": "3.8.10"
  },
  "orig_nbformat": 4
 },
 "nbformat": 4,
 "nbformat_minor": 2
}
