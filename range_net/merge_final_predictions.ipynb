{
 "cells": [
  {
   "cell_type": "code",
   "execution_count": 2,
   "metadata": {},
   "outputs": [],
   "source": [
    "import os \n",
    "\n",
    "os.chdir(\"/home/theovincent/MVA/3DPointCloud/3DPointCloudClassification\")"
   ]
  },
  {
   "cell_type": "code",
   "execution_count": 15,
   "metadata": {},
   "outputs": [
    {
     "data": {
      "text/plain": [
       "True"
      ]
     },
     "execution_count": 15,
     "metadata": {},
     "output_type": "execute_result"
    }
   ],
   "source": [
    "import numpy as np\n",
    "from classifier_3D.utils.ply_file import read_ply, write_ply\n",
    "from range_net import Z_GROUNDS, Z_GROUND, MAX_HEIGHT, CITY_LABELS_TO_NUMBERS\n",
    "\n",
    "\n",
    "cloud, headers = read_ply(\"data/test/MiniDijon9_with_features_200000_filter_r.ply\")\n",
    "cloud_range_net, headers_range_net = read_ply(\"data/test/MiniDijon9_with_range_net_1000_samples.ply\")\n",
    "\n",
    "points = np.vstack((cloud[\"x\"], cloud[\"y\"], cloud[\"z\"])).T.astype(np.float32)\n",
    "\n",
    "\n",
    "# The points that were used with RangeNet++ where the ones respecting z - (avg_z_cloud - avg_z_rangenet) <= max_height\n",
    "# i.e. z <= H + avg_z_cloud - avg_z_rangenet\n",
    "used_by_rangenet = points[:, 2] <= MAX_HEIGHT + Z_GROUNDS[\"MiniDijon9\"] - Z_GROUND\n",
    "predictions = cloud[\"prediction\"]\n",
    "predictions[used_by_rangenet] = cloud_range_net[\"class\"][used_by_rangenet]\n",
    "\n",
    "predictions[~used_by_rangenet & (predictions == CITY_LABELS_TO_NUMBERS[\"Cars\"])] = CITY_LABELS_TO_NUMBERS[\"Building\"]\n",
    "assert (predictions == 0).sum() == 0, \"No unclassified points should be output\"\n",
    "\n",
    "write_ply(\"data/test/MiniDijon9_merged.ply\", (points, predictions), [\"x\", \"y\", \"z\", \"prediction\"])"
   ]
  }
 ],
 "metadata": {
  "interpreter": {
   "hash": "ad2b1301c533521fcb96eb70532f3e190721e7fbc7ce5a284c4cf04ae8011a15"
  },
  "kernelspec": {
   "display_name": "Python 3.8.10 ('env_computer': venv)",
   "language": "python",
   "name": "python3"
  },
  "language_info": {
   "codemirror_mode": {
    "name": "ipython",
    "version": 3
   },
   "file_extension": ".py",
   "mimetype": "text/x-python",
   "name": "python",
   "nbconvert_exporter": "python",
   "pygments_lexer": "ipython3",
   "version": "3.8.10"
  },
  "orig_nbformat": 4
 },
 "nbformat": 4,
 "nbformat_minor": 2
}
