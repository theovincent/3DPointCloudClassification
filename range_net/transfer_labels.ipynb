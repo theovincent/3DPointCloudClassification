{
 "cells": [
  {
   "cell_type": "code",
   "execution_count": 1,
   "metadata": {},
   "outputs": [],
   "source": [
    "import os \n",
    "\n",
    "os.chdir(\"/home/theovincent/MVA/3DPointCloud/3DPointCloudClassification\")"
   ]
  },
  {
   "cell_type": "markdown",
   "metadata": {},
   "source": [
    "## Combine the point cloud and the dataset"
   ]
  },
  {
   "cell_type": "code",
   "execution_count": 11,
   "metadata": {},
   "outputs": [
    {
     "data": {
      "text/plain": [
       "True"
      ]
     },
     "execution_count": 11,
     "metadata": {},
     "output_type": "execute_result"
    }
   ],
   "source": [
    "import numpy as np\n",
    "\n",
    "from classifier_3D.utils.ply_file import write_ply\n",
    "from range_net import KITTI_TO_CITY_NUMBERS\n",
    "\n",
    "city_points = np.fromfile(\"/home/theovincent/MVA/3DPointCloud/RangeNet++/lidar-bonnetal/train/tasks/semantic/data_city/sequences/00/velodyne/000.bin\", dtype=np.float32).reshape((-1, 4))\n",
    "kitty_labels = np.fromfile(\"/home/theovincent/MVA/3DPointCloud/RangeNet++/lidar-bonnetal/train/tasks/semantic/data_city/sequences/00/labels/000.label\", dtype=np.int32)\n",
    "city_labels = np.array([KITTI_TO_CITY_NUMBERS[label] for label in kitty_labels]).astype(np.int32)\n",
    "\n",
    "write_ply(\"data/MiniLille1_combined_sample_raw.ply\", (city_points, city_labels), [\"x\", \"y\", \"z\", \"verticality\", \"class\"])"
   ]
  },
  {
   "cell_type": "code",
   "execution_count": 3,
   "metadata": {},
   "outputs": [],
   "source": [
    "import numpy as np\n",
    "\n",
    "from classifier_3D.utils.ply_file import read_ply, write_ply\n",
    "from classifier_3D.utils.path import get_data_path\n",
    "\n",
    "from range_net import PATH_INDEXES_TO_KEEP\n",
    "\n",
    "is_train_data = True\n",
    "file = \"MiniLille1\"\n",
    "folder = \"00\"\n",
    "path_to_predictions = f\"/home/theovincent/MVA/3DPointCloud/RangeNet++/lidar-bonnetal/train/tasks/semantic/preds/sequences/{folder}/predictions\"\n",
    "\n",
    "point_cloud_path = get_data_path(\n",
    "    f\"{file}_with_features\", is_train_data\n",
    ")\n",
    "point_cloud, _ = read_ply(point_cloud_path)\n",
    "points = np.vstack((point_cloud[\"x\"], point_cloud[\"y\"], point_cloud[\"z\"])).T.astype(\n",
    "        np.float32\n",
    "    )\n",
    "\n",
    "list_path_predictions = sorted([f\"{path_to_predictions}/{file_name}\" for file_name in os.listdir(path_to_predictions) if file_name[-6:] == \".label\"])\n",
    "\n",
    "targets = np.zeros((points.shape[0], len(list_path_predictions)))\n",
    "\n",
    "for idx_prediction, path_prediction in enumerate(list_path_predictions):\n",
    "    path_to_indexes = f\"{PATH_INDEXES_TO_KEEP}/{folder}/{os.path.split(path_prediction)[-1].replace('.label', '.npy')}\"\n",
    "    path_to_sample = path_prediction.replace(\"preds\", \"data_city\").replace(\"predictions\", \"velodyne\").replace('.label', '.bin')\n",
    "\n",
    "    indexes = np.load(path_to_indexes)\n",
    "    sample = np.fromfile(path_to_sample, dtype=np.float32)\n",
    "    prediciton = np.fromfile(path_prediction, dtype=np.int32)\n",
    "    break"
   ]
  },
  {
   "cell_type": "markdown",
   "metadata": {},
   "source": [
    "To do:\n",
    "- merge predictions\n",
    "- test on train set\n",
    "- do test set\n",
    "- create colab to infer "
   ]
  }
 ],
 "metadata": {
  "interpreter": {
   "hash": "ad2b1301c533521fcb96eb70532f3e190721e7fbc7ce5a284c4cf04ae8011a15"
  },
  "kernelspec": {
   "display_name": "Python 3.8.10 ('env_computer': venv)",
   "language": "python",
   "name": "python3"
  },
  "language_info": {
   "codemirror_mode": {
    "name": "ipython",
    "version": 3
   },
   "file_extension": ".py",
   "mimetype": "text/x-python",
   "name": "python",
   "nbconvert_exporter": "python",
   "pygments_lexer": "ipython3",
   "version": "3.8.10"
  },
  "orig_nbformat": 4
 },
 "nbformat": 4,
 "nbformat_minor": 2
}
