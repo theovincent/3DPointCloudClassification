{
 "cells": [
  {
   "cell_type": "code",
   "execution_count": 5,
   "metadata": {},
   "outputs": [],
   "source": [
    "import os \n",
    "\n",
    "os.chdir(\"/home/theovincent/MVA/3DPointCloud/3DPointCloudClassification\")"
   ]
  },
  {
   "cell_type": "markdown",
   "metadata": {},
   "source": [
    "## Combine the point cloud and the dataset"
   ]
  },
  {
   "cell_type": "code",
   "execution_count": 18,
   "metadata": {},
   "outputs": [
    {
     "data": {
      "text/plain": [
       "True"
      ]
     },
     "execution_count": 18,
     "metadata": {},
     "output_type": "execute_result"
    }
   ],
   "source": [
    "import numpy as np\n",
    "\n",
    "from classifier_3D.utils.ply_file import write_ply\n",
    "from range_net import KITTI_TO_CITY_NUMBERS\n",
    "\n",
    "kitti_numbers = np.fromfile(\"data/MiniLille1_sample.label\", dtype=np.int32)\n",
    "# city_numbers = np.expand_dims([KITTI_TO_CITY_NUMBERS[kitti_number] for kitti_number in kitti_numbers], axis=0).T.astype(np.int32)\n",
    "\n",
    "city_points = np.fromfile(\"data/MiniLille1_sample.bin\", dtype=np.float32).reshape((-1, 4))\n",
    "\n",
    "write_ply(\"data/MiniLille1_combined_sample_raw.ply\", (city_points, kitti_numbers), [\"x\", \"y\", \"z\", \"remission\", \"class\"])"
   ]
  }
 ],
 "metadata": {
  "interpreter": {
   "hash": "ad2b1301c533521fcb96eb70532f3e190721e7fbc7ce5a284c4cf04ae8011a15"
  },
  "kernelspec": {
   "display_name": "Python 3.8.10 ('env_computer': venv)",
   "language": "python",
   "name": "python3"
  },
  "language_info": {
   "codemirror_mode": {
    "name": "ipython",
    "version": 3
   },
   "file_extension": ".py",
   "mimetype": "text/x-python",
   "name": "python",
   "nbconvert_exporter": "python",
   "pygments_lexer": "ipython3",
   "version": "3.8.10"
  },
  "orig_nbformat": 4
 },
 "nbformat": 4,
 "nbformat_minor": 2
}
