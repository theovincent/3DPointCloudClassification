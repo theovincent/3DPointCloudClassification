{
 "cells": [
  {
   "cell_type": "code",
   "execution_count": 4,
   "metadata": {},
   "outputs": [],
   "source": [
    "import os \n",
    "\n",
    "os.chdir(\"/home/theovincent/MVA/3DPointCloud/3DPointCloudClassification\")"
   ]
  },
  {
   "cell_type": "markdown",
   "metadata": {},
   "source": [
    "## Z grounds"
   ]
  },
  {
   "cell_type": "code",
   "execution_count": 32,
   "metadata": {},
   "outputs": [
    {
     "data": {
      "text/plain": [
       "-1.7033191919326782"
      ]
     },
     "execution_count": 32,
     "metadata": {},
     "output_type": "execute_result"
    }
   ],
   "source": [
    "import numpy as np\n",
    "\n",
    "z_grounds = []\n",
    "\n",
    "for path, subdirs, files in os.walk(\"../RangeNet++/lidar-bonnetal/train/tasks/semantic/data_kitti/sequences/\"):\n",
    "    for name in files:\n",
    "        path_file = os.path.join(path, name)\n",
    "        \n",
    "        if path_file[-4:] == \".bin\":\n",
    "            scan = np.fromfile(path_file, dtype=np.float32)\n",
    "            scan = scan.reshape((-1, 4))\n",
    "\n",
    "            n, bins = np.histogram(scan[:, 2], bins=100)\n",
    "            z_grounds.append((bins[np.argmax(n)] + bins[np.argmax(n) + 1]) / 2)\n",
    "\n",
    "np.median(z_grounds)"
   ]
  },
  {
   "cell_type": "markdown",
   "metadata": {},
   "source": [
    "## Max distance "
   ]
  },
  {
   "cell_type": "code",
   "execution_count": 47,
   "metadata": {},
   "outputs": [
    {
     "data": {
      "text/plain": [
       "40.542442"
      ]
     },
     "execution_count": 47,
     "metadata": {},
     "output_type": "execute_result"
    },
    {
     "data": {
      "image/png": "[encoded data removed]",
      "text/plain": [
       "<Figure size 432x288 with 1 Axes>"
      ]
     },
     "metadata": {
      "needs_background": "light"
     },
     "output_type": "display_data"
    }
   ],
   "source": [
    "import matplotlib.pyplot as plt \n",
    "\n",
    "scan = np.fromfile(\"data/000000.bin\", dtype=np.float32)\n",
    "scan = scan.reshape((-1, 4))\n",
    "            \n",
    "n, bins, _ = plt.hist(np.linalg.norm(scan[:, :3], axis=1))\n",
    "\n",
    "bins[np.nonzero(n > scan.shape[0] / 100)[0][-1]]"
   ]
  },
  {
   "cell_type": "code",
   "execution_count": 50,
   "metadata": {},
   "outputs": [
    {
     "data": {
      "text/plain": [
       "48.8722"
      ]
     },
     "execution_count": 50,
     "metadata": {},
     "output_type": "execute_result"
    }
   ],
   "source": [
    "import numpy as np\n",
    "\n",
    "max_distances = []\n",
    "\n",
    "for path, subdirs, files in os.walk(\"../RangeNet++/lidar-bonnetal/train/tasks/semantic/data_kitti/sequences/\"):\n",
    "    for name in files:\n",
    "        path_file = os.path.join(path, name)\n",
    "        \n",
    "        if path_file[-4:] == \".bin\":\n",
    "            scan = np.fromfile(path_file, dtype=np.float32)\n",
    "            scan = scan.reshape((-1, 4))\n",
    "            \n",
    "            n, bins = np.histogram(np.linalg.norm(scan[:, :3], axis=1))\n",
    "            max_distances.append(bins[np.nonzero(n > scan.shape[0] / 100)[0][-1]])\n",
    "\n",
    "max_distance = np.median(max_distances)\n",
    "max_distance"
   ]
  },
  {
   "cell_type": "markdown",
   "metadata": {},
   "source": [
    "## Max height"
   ]
  },
  {
   "cell_type": "code",
   "execution_count": 57,
   "metadata": {},
   "outputs": [
    {
     "name": "stdout",
     "output_type": "stream",
     "text": [
      "1.8105267\n"
     ]
    },
    {
     "data": {
      "image/png": "[encoded data removed]",
      "text/plain": [
       "<Figure size 432x288 with 1 Axes>"
      ]
     },
     "metadata": {
      "needs_background": "light"
     },
     "output_type": "display_data"
    }
   ],
   "source": [
    "import matplotlib.pyplot as plt \n",
    "\n",
    "scan = np.fromfile(\"data/000000.bin\", dtype=np.float32)\n",
    "scan = scan.reshape((-1, 4))\n",
    "scan = scan[np.linalg.norm(scan[:, :3], axis=1) < max_distance] \n",
    "\n",
    "n, bin, _ = plt.hist(scan[:, 2], bins=100)\n",
    "print(np.max(scan[:, 2]))"
   ]
  },
  {
   "cell_type": "code",
   "execution_count": 58,
   "metadata": {},
   "outputs": [
    {
     "data": {
      "text/plain": [
       "1.8629856"
      ]
     },
     "execution_count": 58,
     "metadata": {},
     "output_type": "execute_result"
    }
   ],
   "source": [
    "import numpy as np\n",
    "\n",
    "max_heights = []\n",
    "\n",
    "for path, subdirs, files in os.walk(\"../RangeNet++/lidar-bonnetal/train/tasks/semantic/data_kitti/sequences/\"):\n",
    "    for name in files:\n",
    "        path_file = os.path.join(path, name)\n",
    "        \n",
    "        if path_file[-4:] == \".bin\":\n",
    "            scan = np.fromfile(path_file, dtype=np.float32)\n",
    "            scan = scan.reshape((-1, 4))\n",
    "            scan = scan[np.linalg.norm(scan[:, :3], axis=1) < max_distance] \n",
    "            \n",
    "            max_heights.append(np.max(scan[:, 2]))\n",
    "\n",
    "max_height = np.median(max_heights)\n",
    "max_height"
   ]
  },
  {
   "cell_type": "markdown",
   "metadata": {},
   "source": [
    "## Min distance"
   ]
  },
  {
   "cell_type": "code",
   "execution_count": 106,
   "metadata": {},
   "outputs": [
    {
     "data": {
      "text/plain": [
       "3.8181818181818183"
      ]
     },
     "execution_count": 106,
     "metadata": {},
     "output_type": "execute_result"
    },
    {
     "data": {
      "image/png": "[encoded data removed]",
      "text/plain": [
       "<Figure size 432x288 with 1 Axes>"
      ]
     },
     "metadata": {
      "needs_background": "light"
     },
     "output_type": "display_data"
    },
    {
     "data": {
      "image/png": "[encoded data removed]",
      "text/plain": [
       "<Figure size 432x288 with 1 Axes>"
      ]
     },
     "metadata": {
      "needs_background": "light"
     },
     "output_type": "display_data"
    }
   ],
   "source": [
    "import matplotlib.pyplot as plt \n",
    "\n",
    "scan = np.fromfile(\"data/000000.bin\", dtype=np.float32)\n",
    "scan = scan.reshape((-1, 4))\n",
    "scan = scan[np.logical_and(scan[:, 0] < 5, scan[:, 0] > -5)] \n",
    "scan = scan[np.logical_and(scan[:, 1] < 5, scan[:, 1] > -5)] \n",
    "\n",
    "radiuses = np.linspace(2, 5, num=100)\n",
    "n_points_in_cercle = []\n",
    "for radius in radiuses:\n",
    "    n_points_in_cercle.append((scan[:, 0] ** 2 + scan[:, 1] ** 2 <= radius ** 2).sum())\n",
    "plt.plot(radiuses, n_points_in_cercle)\n",
    "\n",
    "best_radius = radiuses[np.nonzero(np.array(n_points_in_cercle) > 100)[0][0]]\n",
    "\n",
    "fig, ax = plt.subplots()\n",
    "\n",
    "plt.scatter(scan[:, 0], scan[:, 1])\n",
    "plt.axis('equal')\n",
    "_ = ax.add_patch(plt.Circle((0, 0), best_radius,color='r', fill=False))\n",
    "best_radius"
   ]
  },
  {
   "cell_type": "code",
   "execution_count": 111,
   "metadata": {},
   "outputs": [
    {
     "data": {
      "text/plain": [
       "3.6060606060606064"
      ]
     },
     "execution_count": 111,
     "metadata": {},
     "output_type": "execute_result"
    }
   ],
   "source": [
    "import numpy as np\n",
    "\n",
    "min_distances = []\n",
    "\n",
    "radiuses = np.linspace(2, 5, num=100)\n",
    "\n",
    "for path, subdirs, files in os.walk(\"../RangeNet++/lidar-bonnetal/train/tasks/semantic/data_kitti/sequences/\"):\n",
    "    for name in files:\n",
    "        path_file = os.path.join(path, name)\n",
    "        \n",
    "        if path_file[-4:] == \".bin\":\n",
    "            scan = np.fromfile(path_file, dtype=np.float32)\n",
    "            scan = scan.reshape((-1, 4))\n",
    "            scan = scan[np.logical_and(scan[:, 0] < 5, scan[:, 0] > -5)] \n",
    "            scan = scan[np.logical_and(scan[:, 1] < 5, scan[:, 1] > -5)] \n",
    "\n",
    "            n_points_in_cercle = []\n",
    "            for radius in radiuses:\n",
    "                n_points_in_cercle.append((scan[:, 0] ** 2 + scan[:, 1] ** 2 <= radius ** 2).sum())\n",
    "            \n",
    "            min_distances.append(radiuses[np.nonzero(np.array(n_points_in_cercle) > 100)[0][0]])\n",
    "\n",
    "min_distance = np.median(min_distances)\n",
    "min_distance"
   ]
  }
 ],
 "metadata": {
  "interpreter": {
   "hash": "ad2b1301c533521fcb96eb70532f3e190721e7fbc7ce5a284c4cf04ae8011a15"
  },
  "kernelspec": {
   "display_name": "Python 3.8.10 ('env_computer': venv)",
   "language": "python",
   "name": "python3"
  },
  "language_info": {
   "codemirror_mode": {
    "name": "ipython",
    "version": 3
   },
   "file_extension": ".py",
   "mimetype": "text/x-python",
   "name": "python",
   "nbconvert_exporter": "python",
   "pygments_lexer": "ipython3",
   "version": "3.8.10"
  },
  "orig_nbformat": 4
 },
 "nbformat": 4,
 "nbformat_minor": 2
}
