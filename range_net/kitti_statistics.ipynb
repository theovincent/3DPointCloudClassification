{
 "cells": [
  {
   "cell_type": "code",
   "execution_count": 5,
   "metadata": {},
   "outputs": [],
   "source": [
    "import os \n",
    "\n",
    "os.chdir(\"../\")"
   ]
  },
  {
   "cell_type": "markdown",
   "metadata": {},
   "source": [
    "## Z grounds"
   ]
  },
  {
   "cell_type": "code",
   "execution_count": 13,
   "metadata": {},
   "outputs": [
    {
     "data": {
      "text/plain": [
       "-1.7001722164154052"
      ]
     },
     "execution_count": 13,
     "metadata": {},
     "output_type": "execute_result"
    }
   ],
   "source": [
    "import numpy as np\n",
    "\n",
    "mean_z_ground = 0\n",
    "n_files = 0\n",
    "\n",
    "for path, subdirs, files in os.walk(\"../RangeNet++/lidar-bonnetal/train/tasks/semantic/data_kitti/sequences/\"):\n",
    "    for name in files:\n",
    "        path_file = os.path.join(path, name)\n",
    "        \n",
    "        if path_file[-4:] == \".bin\":\n",
    "            scan = np.fromfile(path_file, dtype=np.float32)\n",
    "            scan = scan.reshape((-1, 4))\n",
    "\n",
    "            n, bins = np.histogram(scan[:, 2], bins=100)\n",
    "            mean_z_ground += (bins[np.argmax(n)] + bins[np.argmax(n) + 1]) / 2\n",
    "            n_files += 1\n",
    "\n",
    "mean_z_ground / n_files"
   ]
  }
 ],
 "metadata": {
  "interpreter": {
   "hash": "ad2b1301c533521fcb96eb70532f3e190721e7fbc7ce5a284c4cf04ae8011a15"
  },
  "kernelspec": {
   "display_name": "Python 3.8.10 ('env_computer': venv)",
   "language": "python",
   "name": "python3"
  },
  "language_info": {
   "codemirror_mode": {
    "name": "ipython",
    "version": 3
   },
   "file_extension": ".py",
   "mimetype": "text/x-python",
   "name": "python",
   "nbconvert_exporter": "python",
   "pygments_lexer": "ipython3",
   "version": "3.8.10"
  },
  "orig_nbformat": 4
 },
 "nbformat": 4,
 "nbformat_minor": 2
}
